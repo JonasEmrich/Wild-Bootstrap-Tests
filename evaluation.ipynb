{
 "cells": [
  {
   "cell_type": "code",
   "execution_count": 53,
   "metadata": {},
   "outputs": [
    {
     "name": "stdout",
     "output_type": "stream",
     "text": [
      "The autoreload extension is already loaded. To reload it, use:\n",
      "  %reload_ext autoreload\n"
     ]
    }
   ],
   "source": [
    "%load_ext autoreload\n",
    "%autoreload 2\n",
    "\n",
    "import numpy as np\n",
    "import pandas as pd\n",
    "import matplotlib.pyplot as plt\n",
    "import seaborn as sns\n",
    "\n",
    "from utils import *\n",
    "import matplotlib as mpl\n",
    "\n",
    "mpl.rcParams.update(mpl.rcParamsDefault)\n",
    "\n",
    "plt.rc('font', family='serif')\n",
    "plt.rc('font', size=12)\n",
    "#plt.rc('text', usetex=True)"
   ]
  },
  {
   "cell_type": "code",
   "execution_count": 51,
   "metadata": {},
   "outputs": [
    {
     "name": "stdout",
     "output_type": "stream",
     "text": [
      "False Negative Rate 0.032 (type II error)\n",
      "False Positive Rate 0.108 (type I error)\n"
     ]
    }
   ],
   "source": [
    "filename = f\"data/evaluation_heavyside03_noise_h07.csv\"\n",
    "method = \"normal\"\n",
    "df = pd.read_csv(filename)\n",
    "df_defect = df[df.iloc[:,1] == method+\"_defected_data\"]\n",
    "df_typical = df[df.iloc[:,1] == method+\"_typical_data\"]\n",
    "\n",
    "\n",
    "if(len(df_defect) > 0):\n",
    "    FNR = len(df_defect[df_defect.iloc[:,0]==False])/len(df_defect)\n",
    "else:\n",
    "    FNR = \"No Data\"\n",
    "if(len(df_typical) > 0):\n",
    "    FPR = len(df_typical[df_typical.iloc[:,0]==True])/len(df_typical)\n",
    "else:\n",
    "    FPR = \"No Data\"\n",
    "\n",
    "print(f\"False Negative Rate {FNR} (type II error)\")\n",
    "print(f\"False Positive Rate {FPR} (type I error)\")\n"
   ]
  },
  {
   "cell_type": "markdown",
   "metadata": {},
   "source": [
    "# ROC Curves"
   ]
  },
  {
   "cell_type": "code",
   "execution_count": 103,
   "metadata": {},
   "outputs": [],
   "source": [
    "#filename = f\"data/evaluation_heavyside03_noise_h07_roc.csv\"\n",
    "filename = f\"data/evaluation_heavyside15_noise_h07_roc.csv\"\n",
    "#filename = f\"data/evaluation_franke_roc.csv\"\n",
    "#filename = f\"data/evaluation_franke_roc_02.csv\"\n",
    "#filename = f\"data/evaluation_heavyside_roc.csv\"\n",
    "#filename = f\"data/evaluation_linear_roc.csv\"\n",
    "plt.figure(dpi=600)\n",
    "df = pd.read_csv(filename)\n",
    "method_list = [\"normal\", \"wild\", \"wild_extended_smoothed\"] # , \"wild_extended\" \"normal\", \"wild_extended_smoothed\"\n",
    "alpha = []\n",
    "fpr_lists = []\n",
    "tpr_lists = []\n",
    "for method in method_list:\n",
    "    df_defect = df[df[\"name\"] == method+\"_defected_data\"]\n",
    "    df_typical = df[df[\"name\"] == method+\"_typical_data\"]\n",
    "\n",
    "    FPR_list = [0]\n",
    "    TPR_list = [0]\n",
    "    if(df_defect.shape[0] > 0):\n",
    "        for col in df_defect.columns:\n",
    "            split_col = col.split(\"_\")\n",
    "            if(split_col[0] != \"rejected\"):\n",
    "                continue\n",
    "            TPR_list.append(1-len(df_defect[df_defect[col]==\"False\"])/len(df_defect))\n",
    "            if(len(alpha) < df_defect.shape[1]-1):\n",
    "                alpha.append(float(split_col[1]))\n",
    "    else:\n",
    "        raise ValueError(\"No defected data\")\n",
    "\n",
    "    if(df_typical.shape[0] > 0):\n",
    "        for col in df_typical.columns:\n",
    "            split_col = col.split(\"_\")\n",
    "            if(split_col[0] != \"rejected\"):\n",
    "                continue\n",
    "            FPR_list.append(len(df_typical[df_typical[col]==\"True\"])/len(df_typical))\n",
    "    else:\n",
    "        raise ValueError(\"No typical data\")\n",
    "    \n",
    "    fpr_lists.append(FPR_list[1:])\n",
    "    tpr_lists.append(TPR_list[1:])\n",
    "\n",
    "    FPR_list.append(1)\n",
    "    TPR_list.append(1)\n",
    "\n",
    "    plt.plot(np.array(FPR_list)*100, np.array(TPR_list)*100)\n",
    "\n",
    "plt.xlabel(\"False Positive Rate (%)\")\n",
    "plt.xticks(np.linspace(0, 100, 21, endpoint=True), rotation=90)\n",
    "plt.ylabel(\"True Positive Rate (%)\")\n",
    "plt.title(r\"ROC Curve for $\\sigma_{\\epsilon}(x) = 0.3 + 1.5 \\cdot h(x-0.7)$\")\n",
    "plt.legend(method_list)\n",
    "plt.show()\n",
    "\n",
    "plt.figure(dpi=600)\n",
    "plt.plot(np.array(alpha)*100, ((np.array(fpr_lists)-np.array(alpha))/np.array(alpha)).T*100)\n",
    "#plt.plot(np.array(alpha)*100, np.array(fpr_lists).T*100)\n",
    "plt.xticks(np.linspace(0, 100, 21, endpoint=True), rotation=90)\n",
    "plt.xlabel(r\"Desired $\\alpha$ level (%)\")\n",
    "plt.ylabel(r\"$\\frac{FPR-\\alpha}{\\alpha}$ (%)\")\n",
    "plt.title(r\"Relative $\\alpha$ level error for $\\sigma_{\\epsilon}(x) = 0.3 + 1.5 \\cdot h(x-0.7)$\") # 0.3 + 1.5 \\cdot h(x-0.7)\n",
    "plt.legend(method_list)\n",
    "plt.show()\n",
    "\n",
    "plt.figure(dpi=600)\n",
    "plt.plot(np.array(alpha)*100, np.array(tpr_lists).T*100)\n",
    "plt.xticks(np.linspace(0, 100, 21, endpoint=True), rotation=90)\n",
    "plt.xlabel(r\"Desired $\\alpha$ level (%)\")\n",
    "plt.ylabel(r\"$TPR$ (%)\")\n",
    "plt.title(r\"True positive rate over $\\alpha$ for $\\sigma_{\\epsilon}(x) = 0.3 + 1.5 \\cdot h(x-0.7)$\") # 0.7 - 1.4 \\cdot (x-0.5)^2\n",
    "plt.legend(method_list)\n",
    "plt.show()"
   ]
  }
 ],
 "metadata": {
  "kernelspec": {
   "display_name": "base",
   "language": "python",
   "name": "python3"
  },
  "language_info": {
   "codemirror_mode": {
    "name": "ipython",
    "version": 3
   },
   "file_extension": ".py",
   "mimetype": "text/x-python",
   "name": "python",
   "nbconvert_exporter": "python",
   "pygments_lexer": "ipython3",
   "version": "3.11.5"
  }
 },
 "nbformat": 4,
 "nbformat_minor": 2
}
