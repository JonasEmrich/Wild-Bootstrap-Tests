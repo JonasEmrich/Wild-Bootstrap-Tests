{
 "cells": [
  {
   "cell_type": "code",
   "execution_count": 2,
   "metadata": {},
   "outputs": [],
   "source": [
    "%load_ext autoreload\n",
    "%autoreload 2\n",
    "\n",
    "import numpy as np\n",
    "import pandas as pd\n",
    "import matplotlib.pyplot as plt\n",
    "import seaborn as sns\n",
    "\n",
    "from utils import *"
   ]
  },
  {
   "cell_type": "code",
   "execution_count": 8,
   "metadata": {},
   "outputs": [
    {
     "name": "stdout",
     "output_type": "stream",
     "text": [
      "False Negative Rate 0.032 (type II error)\n",
      "False Positive Rate 0.108 (type I error)\n"
     ]
    }
   ],
   "source": [
    "filename = f\"data/evaluation_heavyside03_noise_h07.csv\"\n",
    "method = \"normal\"\n",
    "df = pd.read_csv(filename)\n",
    "df_defect = df[df.iloc[:,1] == method+\"_defected_data\"]\n",
    "df_typical = df[df.iloc[:,1] == method+\"_typical_data\"]\n",
    "\n",
    "\n",
    "if(len(df_defect) > 0):\n",
    "    FNR = len(df_defect[df_defect.iloc[:,0]==False])/len(df_defect)\n",
    "else:\n",
    "    FNR = \"No Data\"\n",
    "if(len(df_typical) > 0):\n",
    "    FPR = len(df_typical[df_typical.iloc[:,0]==True])/len(df_typical)\n",
    "else:\n",
    "    FPR = \"No Data\"\n",
    "\n",
    "print(f\"False Negative Rate {FNR} (type II error)\")\n",
    "print(f\"False Positive Rate {FPR} (type I error)\")\n"
   ]
  },
  {
   "cell_type": "code",
   "execution_count": null,
   "metadata": {},
   "outputs": [],
   "source": []
  }
 ],
 "metadata": {
  "kernelspec": {
   "display_name": "base",
   "language": "python",
   "name": "python3"
  },
  "language_info": {
   "codemirror_mode": {
    "name": "ipython",
    "version": 3
   },
   "file_extension": ".py",
   "mimetype": "text/x-python",
   "name": "python",
   "nbconvert_exporter": "python",
   "pygments_lexer": "ipython3",
   "version": "3.9.18"
  }
 },
 "nbformat": 4,
 "nbformat_minor": 2
}
