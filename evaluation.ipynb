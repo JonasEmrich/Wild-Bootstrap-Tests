{
 "cells": [
  {
   "cell_type": "code",
   "execution_count": 1,
   "metadata": {},
   "outputs": [],
   "source": [
    "%load_ext autoreload\n",
    "%autoreload 2\n",
    "\n",
    "import numpy as np\n",
    "import matplotlib.pyplot as plt\n",
    "import seaborn as sns\n",
    "\n",
    "from utils import *\n",
    "from bootstrap import Bootstrap, MonteCarlo\n",
    "from numerical_evaluation import MonteCarloEvaluation"
   ]
  },
  {
   "cell_type": "code",
   "execution_count": 7,
   "metadata": {},
   "outputs": [
    {
     "name": "stderr",
     "output_type": "stream",
     "text": [
      "  0%|          | 0/5 [00:00<?, ?it/s]"
     ]
    },
    {
     "name": "stderr",
     "output_type": "stream",
     "text": [
      "100%|██████████| 5/5 [00:20<00:00,  4.02s/it]\n"
     ]
    },
    {
     "data": {
      "text/plain": [
       "array([1., 1., 1., 1., 1.])"
      ]
     },
     "execution_count": 7,
     "metadata": {},
     "output_type": "execute_result"
    }
   ],
   "source": [
    "# define evaluation setup\n",
    "N = 5 # number of runs\n",
    "defect = True # testing with a defected signal\n",
    "filename = f\"data/evaluation_franke.csv\"\n",
    "\n",
    "BS = Bootstrap(method=\"wild\", kernel_function=\"bartlett_priestley_kernel\")\n",
    "MC = MonteCarloEvaluation(data_generator = lambda: generate_data_franke(defect=defect),\n",
    "                          testing_method = lambda y1, y2: BS.compute(y1, y2, h=.02, g=.03, B=1000, alpha=.05, printout=False)[\"rejected\"])\n",
    "\n",
    "MC.perform_trials(N=N, filename=filename, name=\"wild_defected data\")"
   ]
  },
  {
   "cell_type": "code",
   "execution_count": 8,
   "metadata": {},
   "outputs": [
    {
     "name": "stdout",
     "output_type": "stream",
     "text": [
      "FalseRate (defect = True) 1.0\n"
     ]
    }
   ],
   "source": [
    "# Load data\n",
    "DATA = np.genfromtxt(filename, delimiter=',')\n",
    "FR = len(DATA[DATA==defect])/len(DATA)\n",
    "print(f\"FalseRate (defect = {defect}) {FR}\")"
   ]
  },
  {
   "cell_type": "code",
   "execution_count": null,
   "metadata": {},
   "outputs": [],
   "source": []
  }
 ],
 "metadata": {
  "kernelspec": {
   "display_name": "base",
   "language": "python",
   "name": "python3"
  },
  "language_info": {
   "codemirror_mode": {
    "name": "ipython",
    "version": 3
   },
   "file_extension": ".py",
   "mimetype": "text/x-python",
   "name": "python",
   "nbconvert_exporter": "python",
   "pygments_lexer": "ipython3",
   "version": "3.11.5"
  }
 },
 "nbformat": 4,
 "nbformat_minor": 2
}
