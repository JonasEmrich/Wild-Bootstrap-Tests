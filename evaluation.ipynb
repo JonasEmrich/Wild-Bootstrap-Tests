{
 "cells": [
  {
   "cell_type": "code",
   "execution_count": 5,
   "metadata": {},
   "outputs": [
    {
     "name": "stdout",
     "output_type": "stream",
     "text": [
      "The autoreload extension is already loaded. To reload it, use:\n",
      "  %reload_ext autoreload\n"
     ]
    }
   ],
   "source": [
    "%load_ext autoreload\n",
    "%autoreload 2\n",
    "\n",
    "import numpy as np\n",
    "import pandas as pd\n",
    "import matplotlib.pyplot as plt\n",
    "import seaborn as sns\n",
    "\n",
    "from utils import *"
   ]
  },
  {
   "cell_type": "code",
   "execution_count": 6,
   "metadata": {},
   "outputs": [
    {
     "name": "stdout",
     "output_type": "stream",
     "text": [
      "False Negative Rate 0.04390243902439024 (type II error)\n",
      "False Positive Rate 0.1 (type I error)\n"
     ]
    }
   ],
   "source": [
    "filename = f\"data/evaluation_franke.csv\"\n",
    "df = pd.read_csv(filename)\n",
    "method = \"wild\"\n",
    "df_defect = df[df.method == method+\"_defected_data\"]\n",
    "df_typical = df[df.method == method+\"_typical_data\"]\n",
    "\n",
    "\n",
    "FNR = len(df_defect[df_defect.rejected==False])/len(df_defect)\n",
    "FPR = len(df_typical[df_typical.rejected==True])/len(df_typical)\n",
    "\n",
    "print(f\"False Negative Rate {FNR} (type II error)\")\n",
    "print(f\"False Positive Rate {FPR} (type I error)\")\n"
   ]
  },
  {
   "cell_type": "code",
   "execution_count": null,
   "metadata": {},
   "outputs": [],
   "source": []
  }
 ],
 "metadata": {
  "kernelspec": {
   "display_name": "base",
   "language": "python",
   "name": "python3"
  },
  "language_info": {
   "codemirror_mode": {
    "name": "ipython",
    "version": 3
   },
   "file_extension": ".py",
   "mimetype": "text/x-python",
   "name": "python",
   "nbconvert_exporter": "python",
   "pygments_lexer": "ipython3",
   "version": "3.9.18"
  }
 },
 "nbformat": 4,
 "nbformat_minor": 2
}
