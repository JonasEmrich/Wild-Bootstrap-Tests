{
 "cells": [
  {
   "cell_type": "code",
   "execution_count": 1,
   "metadata": {},
   "outputs": [],
   "source": [
    "import pandas as pd\n",
    "import numpy as np\n",
    "\n",
    "path = \"C:\\\\Users\\\\Jonas\\\\OneDrive\\\\Uni\\\\SoSe23\\\\RDS\\\\git-repo\\\\vg-ecg-detectors\\\\capacity.csv\"\n",
    "\n"
   ]
  },
  {
   "cell_type": "code",
   "execution_count": 3,
   "metadata": {},
   "outputs": [
    {
     "data": {
      "text/html": [
       "<div>\n",
       "<style scoped>\n",
       "    .dataframe tbody tr th:only-of-type {\n",
       "        vertical-align: middle;\n",
       "    }\n",
       "\n",
       "    .dataframe tbody tr th {\n",
       "        vertical-align: top;\n",
       "    }\n",
       "\n",
       "    .dataframe thead th {\n",
       "        text-align: right;\n",
       "    }\n",
       "</style>\n",
       "<table border=\"1\" class=\"dataframe\">\n",
       "  <thead>\n",
       "    <tr style=\"text-align: right;\">\n",
       "      <th></th>\n",
       "      <th>AC</th>\n",
       "      <th>DC</th>\n",
       "      <th>minimum_cut_value_left_to_right</th>\n",
       "      <th>maximum_flow_value_left_to_right</th>\n",
       "      <th>shortest_path_length_left_to_right</th>\n",
       "    </tr>\n",
       "  </thead>\n",
       "  <tbody>\n",
       "    <tr>\n",
       "      <th>AC</th>\n",
       "      <td>1.000000</td>\n",
       "      <td>0.785103</td>\n",
       "      <td>0.197209</td>\n",
       "      <td>0.197209</td>\n",
       "      <td>-0.589245</td>\n",
       "    </tr>\n",
       "    <tr>\n",
       "      <th>DC</th>\n",
       "      <td>0.785103</td>\n",
       "      <td>1.000000</td>\n",
       "      <td>0.018064</td>\n",
       "      <td>0.018064</td>\n",
       "      <td>-0.336224</td>\n",
       "    </tr>\n",
       "    <tr>\n",
       "      <th>minimum_cut_value_left_to_right</th>\n",
       "      <td>0.197209</td>\n",
       "      <td>0.018064</td>\n",
       "      <td>1.000000</td>\n",
       "      <td>1.000000</td>\n",
       "      <td>-0.696422</td>\n",
       "    </tr>\n",
       "    <tr>\n",
       "      <th>maximum_flow_value_left_to_right</th>\n",
       "      <td>0.197209</td>\n",
       "      <td>0.018064</td>\n",
       "      <td>1.000000</td>\n",
       "      <td>1.000000</td>\n",
       "      <td>-0.696422</td>\n",
       "    </tr>\n",
       "    <tr>\n",
       "      <th>shortest_path_length_left_to_right</th>\n",
       "      <td>-0.589245</td>\n",
       "      <td>-0.336224</td>\n",
       "      <td>-0.696422</td>\n",
       "      <td>-0.696422</td>\n",
       "      <td>1.000000</td>\n",
       "    </tr>\n",
       "  </tbody>\n",
       "</table>\n",
       "</div>"
      ],
      "text/plain": [
       "                                          AC        DC  \\\n",
       "AC                                  1.000000  0.785103   \n",
       "DC                                  0.785103  1.000000   \n",
       "minimum_cut_value_left_to_right     0.197209  0.018064   \n",
       "maximum_flow_value_left_to_right    0.197209  0.018064   \n",
       "shortest_path_length_left_to_right -0.589245 -0.336224   \n",
       "\n",
       "                                    minimum_cut_value_left_to_right  \\\n",
       "AC                                                         0.197209   \n",
       "DC                                                         0.018064   \n",
       "minimum_cut_value_left_to_right                            1.000000   \n",
       "maximum_flow_value_left_to_right                           1.000000   \n",
       "shortest_path_length_left_to_right                        -0.696422   \n",
       "\n",
       "                                    maximum_flow_value_left_to_right  \\\n",
       "AC                                                          0.197209   \n",
       "DC                                                          0.018064   \n",
       "minimum_cut_value_left_to_right                             1.000000   \n",
       "maximum_flow_value_left_to_right                            1.000000   \n",
       "shortest_path_length_left_to_right                         -0.696422   \n",
       "\n",
       "                                    shortest_path_length_left_to_right  \n",
       "AC                                                           -0.589245  \n",
       "DC                                                           -0.336224  \n",
       "minimum_cut_value_left_to_right                              -0.696422  \n",
       "maximum_flow_value_left_to_right                             -0.696422  \n",
       "shortest_path_length_left_to_right                            1.000000  "
      ]
     },
     "execution_count": 3,
     "metadata": {},
     "output_type": "execute_result"
    }
   ],
   "source": [
    "df0 = pd.read_csv(path, index_col='ex')\n",
    "df0.corr()"
   ]
  },
  {
   "cell_type": "code",
   "execution_count": null,
   "metadata": {},
   "outputs": [],
   "source": []
  }
 ],
 "metadata": {
  "kernelspec": {
   "display_name": "jupyterlab-debugger",
   "language": "python",
   "name": "python3"
  },
  "language_info": {
   "codemirror_mode": {
    "name": "ipython",
    "version": 3
   },
   "file_extension": ".py",
   "mimetype": "text/x-python",
   "name": "python",
   "nbconvert_exporter": "python",
   "pygments_lexer": "ipython3",
   "version": "3.9.13"
  },
  "orig_nbformat": 4
 },
 "nbformat": 4,
 "nbformat_minor": 2
}
