{
 "cells": [
  {
   "cell_type": "code",
   "execution_count": 1,
   "metadata": {},
   "outputs": [],
   "source": [
    "import warnings\n",
    "warnings.simplefilter(action='ignore', category=FutureWarning)\n",
    "\n",
    "import numpy as np\n",
    "import matplotlib.pyplot as plt\n",
    "import wfdb\n",
    "from scipy import signal\n",
    "import pandas as pd\n",
    "\n",
    "import sys\n",
    "sys.path.append(\"..\")\n",
    "sys.path.append(\"C:\\\\Users\\\\Jonas\\\\OneDrive\\\\Uni\\\\SoSe23\\\\RDS\\\\git-repo\\\\vg-ecg-detectors\\\\src\")\n",
    "\n",
    "from src.vg_beat_detectors.vg_metric import VisGraphMetric\n",
    "from src.vg_beat_detectors.fast_nvg import FastNVG\n",
    "\n",
    "path = \"C:\\\\Users\\\\Jonas\\\\OneDrive\\\\Uni\\\\SoSe23\\\\RDS\\\\git-repo\\\\vg-ecg-detectors\\\\correlation.csv\""
   ]
  },
  {
   "cell_type": "code",
   "execution_count": 2,
   "metadata": {},
   "outputs": [],
   "source": [
    "def pysionet_db(data='105', db='mitdb', filtered=False, left=0, right=None, normalize=False):\n",
    "    sig = wfdb.rdsamp(data, sampfrom=left, sampto=right, pn_dir=db)[0][:, 0]\n",
    "\n",
    "    annotations = wfdb.rdann(data, 'atr', sampfrom=left, sampto=right, pn_dir=db, summarize_labels=True)\n",
    "    a_sym = np.array(annotations.symbol)\n",
    "    annotation_pos = annotations.sample[np.in1d(a_sym, ['·','N','L','R', 'A', 'a', 'J', 'S', 'V','F', 'e', 'j', 'E', '/', 'f','Q', '!'])] - left\n",
    "\n",
    "    artifacts = annotations.sample[np.in1d(a_sym, ['|'])] - left\n",
    "    fs = annotations.fs\n",
    "\n",
    "    t = np.arange(left, len(sig)+left,1)/fs\n",
    "\n",
    "\n",
    "    if filtered:\n",
    "        nyq = 0.5 * fs\n",
    "        lowcut = 4      # cutoff frequency 4Hz\n",
    "        order = 2\n",
    "        high = lowcut / nyq\n",
    "        b, a = signal.butter(order, high, btype='highpass')\n",
    "        sig = signal.filtfilt(b, a, sig)\n",
    "\n",
    "        nyq = fs / 2\n",
    "        lowCut = 5 / nyq  #cut off frequencies are normalized from 0 to 1, where 1 is the Nyquist frequency\n",
    "        highCut = 15 / nyq\n",
    "        order = 2\n",
    "        b,a = signal.butter(order, [lowCut, highCut], btype = 'bandpass')\n",
    "        sig = signal.filtfilt(b, a, sig)\n",
    "\n",
    "    if normalize:\n",
    "        sig = sig - sig.min()\n",
    "        sig = sig / sig.max()\n",
    "\n",
    "    return t, sig, fs, annotation_pos\n"
   ]
  },
  {
   "cell_type": "code",
   "execution_count": 3,
   "metadata": {},
   "outputs": [],
   "source": [
    "def compute_ACDC(rr, fs, PRSA=False):\n",
    "   rr = rr/fs*1000\n",
    "   segment_length = 4\n",
    "   l = segment_length//2\n",
    "   r = segment_length - l\n",
    "   N = len(rr)\n",
    "\n",
    "   # do the full computation if needed\n",
    "   sum_acceleration = np.zeros(segment_length)\n",
    "   num_acceleration = 0\n",
    "   sum_decceleration = np.zeros(segment_length)\n",
    "   num_decceleration = 0\n",
    "\n",
    "   for i in range(l,N-r):\n",
    "      # acceleration\n",
    "      if rr[i] < rr[i-1] and rr[i] > 0.95 * rr[i-1]:\n",
    "         sum_acceleration += rr[i-l:i+r]\n",
    "         num_acceleration += 1\n",
    "         # deceleration\n",
    "      elif rr[i] > rr[i-1] and rr[i] < 1.05 * rr[i-1]:\n",
    "         sum_decceleration += rr[i-l:i+r]\n",
    "         num_decceleration += 1\n",
    "        \n",
    "   PRSA_AC = sum_acceleration/num_acceleration\n",
    "   PRSA_DC = sum_decceleration/num_decceleration\n",
    "\n",
    "   AC = (PRSA_AC[l]+PRSA_AC[l+1]-PRSA_AC[l-1]-PRSA_AC[l-2])/4\n",
    "   DC = (PRSA_DC[l]+PRSA_DC[l+1]-PRSA_DC[l-1]-PRSA_DC[l-2])/4\n",
    "\n",
    "   return AC, DC, PRSA_AC, PRSA_DC\n",
    "\n",
    "def segmentwise_ACDC(rr, fs):\n",
    "   rr = rr/fs*1000\n",
    "   N = len(rr)\n",
    "\n",
    "   values = []\n",
    "   labels = []\n",
    "   indices = []\n",
    "\n",
    "   for i in range(2,N-1):\n",
    "      # compute AC/DC formula if not outlier, i.e., in 5% bounds\n",
    "      if not 1.05 * rr[i-1] > rr[i] > 0.95 * rr[i-1]:\n",
    "         values.append(np.nan)\n",
    "         labels.append(\"outlier\")\n",
    "         indices.append(i)\n",
    "         continue\n",
    "\n",
    "      values.append((rr[i]+rr[i+1]-rr[i-1]-rr[i-2])/4)\n",
    "      indices.append(i)\n",
    "\n",
    "      # label as AC or DC\n",
    "      if rr[i] <= rr[i-1]:\n",
    "         labels.append(\"AC\")\n",
    "      elif rr[i] > rr[i-1]:\n",
    "         labels.append(\"DC\")\n",
    "\n",
    "   return np.array(values), np.array(labels), np.array(indices)"
   ]
  },
  {
   "cell_type": "code",
   "execution_count": 28,
   "metadata": {},
   "outputs": [
    {
     "name": "stdout",
     "output_type": "stream",
     "text": [
      "slope None\n",
      "The metric local_reaching_centrality is not defined for undirected graphs. Set the parameter \"direction\" of the main class to one of ['top_to_bottom', 'left_to_right'].\n",
      "\n",
      " 100: local_edge_connectivity_None_slope_4 \t AC: -0.05369949388760527 \t DC: 0.07767935753252901 \t ALL: 0.0011137483848680464\n",
      "\n",
      " 100: local_node_connectivity_None_slope_4 \t AC: -0.05369949388760527 \t DC: 0.07767935753252901 \t ALL: 0.0011137483848680464\n",
      "\n",
      " 100: closeness_centrality_None_slope_4 \t AC: -0.19730245225194962 \t DC: -0.19928475125542344 \t ALL: 0.07602317806955713\n",
      "\n",
      " 100: dispersion_None_slope_4 \t AC: nan \t DC: nan \t ALL: nan\n"
     ]
    },
    {
     "name": "stderr",
     "output_type": "stream",
     "text": [
      "c:\\Users\\Jonas\\anaconda3\\lib\\site-packages\\numpy\\lib\\function_base.py:2691: RuntimeWarning: invalid value encountered in true_divide\n",
      "  c /= stddev[:, None]\n",
      "c:\\Users\\Jonas\\anaconda3\\lib\\site-packages\\numpy\\lib\\function_base.py:2692: RuntimeWarning: invalid value encountered in true_divide\n",
      "  c /= stddev[None, :]\n"
     ]
    }
   ],
   "source": [
    "experiments = [100, \t104, \t108, \t113, \t117, \t122, \t201, \t207, \t212, \t217, \t222, \t231,\n",
    "            101, \t105, \t109, \t114, \t118, \t123, \t202, \t208, \t213, \t219, \t223, \t232,\n",
    "            102, \t106, \t111, \t115, \t119, \t124, \t203, \t209, \t214, \t220, \t228, \t233,\n",
    "            103, \t107, \t112, \t116, \t121, \t200, \t205, \t210, \t215, \t221, \t230, \t234]\n",
    "\n",
    "def calc_correlations(VGM, beats_per_window, metrics):\n",
    "    for ex in experiments:\n",
    "        data = []\n",
    "        t, x, fs, true_peaks = pysionet_db(data=str(ex), db='mitdb', filtered=False,normalize=False)#, right=int(5*60*360)\n",
    "        if true_peaks.size == 0:\n",
    "            continue\n",
    "        rr = np.diff(true_peaks)\n",
    "\n",
    "        # calculate AC/DC\n",
    "        values, labels, indices = segmentwise_ACDC(rr, fs)\n",
    "        values = values[labels != \"outlier\"]\n",
    "        indices = indices[labels != \"outlier\"]\n",
    "        labels = labels[labels != \"outlier\"]\n",
    "\n",
    "        #print(metrics)\n",
    "        m = VGM.calc_metric(rr, metrics=metrics)\n",
    "        for name, (m, ix_m) in m.items():\n",
    "            ix_m += beats_per_window//2 # shift to middle of window\n",
    "            # get common indices\n",
    "            idx = np.intersect1d(indices, ix_m)\n",
    "\n",
    "            values = values[np.in1d(indices, idx)]\n",
    "            m = m[np.in1d(ix_m, idx)]\n",
    "            labels = labels[np.in1d(indices, idx)]\n",
    "            \n",
    "            AC_true = values[labels == \"AC\"]\n",
    "            AC_pred = m[labels == \"AC\"]\n",
    "            DC_true = values[labels == \"DC\"]\n",
    "            DC_pred = m[labels == \"DC\"]\n",
    "\n",
    "            AC = np.corrcoef(AC_true, AC_pred, rowvar=False)[0,1]\n",
    "            DC = np.corrcoef(DC_true, DC_pred, rowvar=False)[0,1]\n",
    "            ALL = np.corrcoef(values, m, rowvar=False)[0,1]\n",
    "\n",
    "            if True or np.any(np.array([ALL, AC, DC]) > 0.5):\n",
    "                print(f\"\\n {ex}: {name}_{str(VGM.directed)}_{str(VGM.edge_weight)}_{VGM.beats_per_window} \\t AC: {AC} \\t DC: {DC} \\t ALL: {ALL}\")\n",
    "\n",
    "            data.append([ex, name, ALL, AC, DC, beats_per_window, edge_weight, direction, freq_domain])  \n",
    "\n",
    "        df = pd.DataFrame(data, columns=['ex', 'name', 'ALL', 'AC', 'DC', 'beats_per_window', 'edge_weight', 'direction', 'freq_domain'])\n",
    "        df.to_csv(path, index=False, mode='a', header=False)   \n",
    "        break\n",
    "\n",
    "beats_per_window = 4\n",
    "freq_domain = False\n",
    "directions = [None, 'left_to_right']\n",
    "edge_weights = [None, 'slope', 'abs_slope', 'angle', 'abs_angle', 'distance', 'sq_distance', 'v_distance', 'abs_v_distance', 'h_distance', 'abs_h_distance']\n",
    "\n",
    "#metrics=['minimum_cut_value_left_to_right', 'maximum_flow_value_left_to_right', 'shortest_path_length_left_to_right']\n",
    "# VGM = VisGraphMetric(edge_weight=\"slope\", direction=None, freq_domain=freq_domain, beats_per_window=beats_per_window, beats_per_step=1)\n",
    "for edge_weight in edge_weights:\n",
    "    for direction in directions:\n",
    "        print(edge_weight, direction)\n",
    "        VGM = VisGraphMetric(edge_weight=edge_weight, direction=direction, freq_domain=freq_domain, beats_per_window=beats_per_window, beats_per_step=1)\n",
    "        metrics = VGM.get_available_metrics()\n",
    "        calc_correlations(VGM, beats_per_window, metrics)"
   ]
  },
  {
   "cell_type": "code",
   "execution_count": 48,
   "metadata": {},
   "outputs": [
    {
     "data": {
      "text/html": [
       "<div>\n",
       "<style scoped>\n",
       "    .dataframe tbody tr th:only-of-type {\n",
       "        vertical-align: middle;\n",
       "    }\n",
       "\n",
       "    .dataframe tbody tr th {\n",
       "        vertical-align: top;\n",
       "    }\n",
       "\n",
       "    .dataframe thead th {\n",
       "        text-align: right;\n",
       "    }\n",
       "</style>\n",
       "<table border=\"1\" class=\"dataframe\">\n",
       "  <thead>\n",
       "    <tr style=\"text-align: right;\">\n",
       "      <th></th>\n",
       "      <th>ex</th>\n",
       "      <th>metric</th>\n",
       "      <th>ALL</th>\n",
       "      <th>AC</th>\n",
       "      <th>DC</th>\n",
       "      <th>beats_per_window</th>\n",
       "      <th>edge_weight</th>\n",
       "      <th>edge_direction</th>\n",
       "      <th>fft</th>\n",
       "    </tr>\n",
       "  </thead>\n",
       "  <tbody>\n",
       "    <tr>\n",
       "      <th>75</th>\n",
       "      <td>100</td>\n",
       "      <td>node_connectivity</td>\n",
       "      <td>-0.241923</td>\n",
       "      <td>0.101999</td>\n",
       "      <td>0.171912</td>\n",
       "      <td>4</td>\n",
       "      <td>slope</td>\n",
       "      <td>left_to_right</td>\n",
       "      <td>False</td>\n",
       "    </tr>\n",
       "    <tr>\n",
       "      <th>76</th>\n",
       "      <td>100</td>\n",
       "      <td>average_node_connectivity</td>\n",
       "      <td>0.014754</td>\n",
       "      <td>-0.009602</td>\n",
       "      <td>0.049733</td>\n",
       "      <td>4</td>\n",
       "      <td>slope</td>\n",
       "      <td>left_to_right</td>\n",
       "      <td>False</td>\n",
       "    </tr>\n",
       "    <tr>\n",
       "      <th>77</th>\n",
       "      <td>100</td>\n",
       "      <td>average_clustering</td>\n",
       "      <td>0.034731</td>\n",
       "      <td>0.058886</td>\n",
       "      <td>-0.021491</td>\n",
       "      <td>4</td>\n",
       "      <td>slope</td>\n",
       "      <td>left_to_right</td>\n",
       "      <td>False</td>\n",
       "    </tr>\n",
       "    <tr>\n",
       "      <th>85</th>\n",
       "      <td>100</td>\n",
       "      <td>dag_longest_path_length</td>\n",
       "      <td>0.722095</td>\n",
       "      <td>0.562404</td>\n",
       "      <td>0.713632</td>\n",
       "      <td>4</td>\n",
       "      <td>slope</td>\n",
       "      <td>left_to_right</td>\n",
       "      <td>False</td>\n",
       "    </tr>\n",
       "    <tr>\n",
       "      <th>86</th>\n",
       "      <td>100</td>\n",
       "      <td>average_shortest_path_length</td>\n",
       "      <td>-0.030473</td>\n",
       "      <td>-0.043000</td>\n",
       "      <td>0.004189</td>\n",
       "      <td>4</td>\n",
       "      <td>slope</td>\n",
       "      <td>left_to_right</td>\n",
       "      <td>False</td>\n",
       "    </tr>\n",
       "    <tr>\n",
       "      <th>...</th>\n",
       "      <td>...</td>\n",
       "      <td>...</td>\n",
       "      <td>...</td>\n",
       "      <td>...</td>\n",
       "      <td>...</td>\n",
       "      <td>...</td>\n",
       "      <td>...</td>\n",
       "      <td>...</td>\n",
       "      <td>...</td>\n",
       "    </tr>\n",
       "    <tr>\n",
       "      <th>1609</th>\n",
       "      <td>108</td>\n",
       "      <td>density</td>\n",
       "      <td>0.032214</td>\n",
       "      <td>-0.062323</td>\n",
       "      <td>0.133095</td>\n",
       "      <td>4</td>\n",
       "      <td>abs_h_distance</td>\n",
       "      <td>left_to_right</td>\n",
       "      <td>False</td>\n",
       "    </tr>\n",
       "    <tr>\n",
       "      <th>1610</th>\n",
       "      <td>108</td>\n",
       "      <td>local_edge_connectivity</td>\n",
       "      <td>0.035653</td>\n",
       "      <td>-0.099922</td>\n",
       "      <td>0.196682</td>\n",
       "      <td>4</td>\n",
       "      <td>abs_h_distance</td>\n",
       "      <td>left_to_right</td>\n",
       "      <td>False</td>\n",
       "    </tr>\n",
       "    <tr>\n",
       "      <th>1612</th>\n",
       "      <td>108</td>\n",
       "      <td>closeness_centrality</td>\n",
       "      <td>-0.140962</td>\n",
       "      <td>-0.349293</td>\n",
       "      <td>-0.249375</td>\n",
       "      <td>4</td>\n",
       "      <td>abs_h_distance</td>\n",
       "      <td>left_to_right</td>\n",
       "      <td>False</td>\n",
       "    </tr>\n",
       "    <tr>\n",
       "      <th>1615</th>\n",
       "      <td>108</td>\n",
       "      <td>maximum_flow_value_left_to_right</td>\n",
       "      <td>0.039811</td>\n",
       "      <td>-0.071101</td>\n",
       "      <td>0.176890</td>\n",
       "      <td>4</td>\n",
       "      <td>abs_h_distance</td>\n",
       "      <td>left_to_right</td>\n",
       "      <td>False</td>\n",
       "    </tr>\n",
       "    <tr>\n",
       "      <th>1616</th>\n",
       "      <td>108</td>\n",
       "      <td>minimum_cut_value_left_to_right</td>\n",
       "      <td>0.039811</td>\n",
       "      <td>-0.071101</td>\n",
       "      <td>0.176890</td>\n",
       "      <td>4</td>\n",
       "      <td>abs_h_distance</td>\n",
       "      <td>left_to_right</td>\n",
       "      <td>False</td>\n",
       "    </tr>\n",
       "  </tbody>\n",
       "</table>\n",
       "<p>318 rows × 9 columns</p>\n",
       "</div>"
      ],
      "text/plain": [
       "       ex                            metric       ALL        AC        DC  \\\n",
       "75    100                 node_connectivity -0.241923  0.101999  0.171912   \n",
       "76    100         average_node_connectivity  0.014754 -0.009602  0.049733   \n",
       "77    100                average_clustering  0.034731  0.058886 -0.021491   \n",
       "85    100           dag_longest_path_length  0.722095  0.562404  0.713632   \n",
       "86    100      average_shortest_path_length -0.030473 -0.043000  0.004189   \n",
       "...   ...                               ...       ...       ...       ...   \n",
       "1609  108                           density  0.032214 -0.062323  0.133095   \n",
       "1610  108           local_edge_connectivity  0.035653 -0.099922  0.196682   \n",
       "1612  108              closeness_centrality -0.140962 -0.349293 -0.249375   \n",
       "1615  108  maximum_flow_value_left_to_right  0.039811 -0.071101  0.176890   \n",
       "1616  108   minimum_cut_value_left_to_right  0.039811 -0.071101  0.176890   \n",
       "\n",
       "      beats_per_window     edge_weight edge_direction    fft  \n",
       "75                   4           slope  left_to_right  False  \n",
       "76                   4           slope  left_to_right  False  \n",
       "77                   4           slope  left_to_right  False  \n",
       "85                   4           slope  left_to_right  False  \n",
       "86                   4           slope  left_to_right  False  \n",
       "...                ...             ...            ...    ...  \n",
       "1609                 4  abs_h_distance  left_to_right  False  \n",
       "1610                 4  abs_h_distance  left_to_right  False  \n",
       "1612                 4  abs_h_distance  left_to_right  False  \n",
       "1615                 4  abs_h_distance  left_to_right  False  \n",
       "1616                 4  abs_h_distance  left_to_right  False  \n",
       "\n",
       "[318 rows x 9 columns]"
      ]
     },
     "execution_count": 48,
     "metadata": {},
     "output_type": "execute_result"
    }
   ],
   "source": [
    "df = pd.read_csv(path)\n",
    "df = df.dropna(axis=0, how='any')\n",
    "df"
   ]
  },
  {
   "cell_type": "code",
   "execution_count": 49,
   "metadata": {},
   "outputs": [
    {
     "data": {
      "text/html": [
       "<div>\n",
       "<style scoped>\n",
       "    .dataframe tbody tr th:only-of-type {\n",
       "        vertical-align: middle;\n",
       "    }\n",
       "\n",
       "    .dataframe tbody tr th {\n",
       "        vertical-align: top;\n",
       "    }\n",
       "\n",
       "    .dataframe thead th {\n",
       "        text-align: right;\n",
       "    }\n",
       "</style>\n",
       "<table border=\"1\" class=\"dataframe\">\n",
       "  <thead>\n",
       "    <tr style=\"text-align: right;\">\n",
       "      <th></th>\n",
       "      <th>ex</th>\n",
       "      <th>metric</th>\n",
       "      <th>ALL</th>\n",
       "      <th>AC</th>\n",
       "      <th>DC</th>\n",
       "      <th>beats_per_window</th>\n",
       "      <th>edge_weight</th>\n",
       "      <th>edge_direction</th>\n",
       "      <th>fft</th>\n",
       "      <th>max</th>\n",
       "    </tr>\n",
       "  </thead>\n",
       "  <tbody>\n",
       "    <tr>\n",
       "      <th>1467</th>\n",
       "      <td>108</td>\n",
       "      <td>shortest_path_length_left_to_right</td>\n",
       "      <td>0.970527</td>\n",
       "      <td>0.988696</td>\n",
       "      <td>0.992867</td>\n",
       "      <td>4</td>\n",
       "      <td>v_distance</td>\n",
       "      <td>left_to_right</td>\n",
       "      <td>False</td>\n",
       "      <td>0.992867</td>\n",
       "    </tr>\n",
       "    <tr>\n",
       "      <th>389</th>\n",
       "      <td>100</td>\n",
       "      <td>shortest_path_length_left_to_right</td>\n",
       "      <td>0.962325</td>\n",
       "      <td>0.979525</td>\n",
       "      <td>0.980755</td>\n",
       "      <td>4</td>\n",
       "      <td>v_distance</td>\n",
       "      <td>left_to_right</td>\n",
       "      <td>False</td>\n",
       "      <td>0.980755</td>\n",
       "    </tr>\n",
       "    <tr>\n",
       "      <th>928</th>\n",
       "      <td>104</td>\n",
       "      <td>shortest_path_length_left_to_right</td>\n",
       "      <td>0.938627</td>\n",
       "      <td>0.976584</td>\n",
       "      <td>0.981501</td>\n",
       "      <td>4</td>\n",
       "      <td>v_distance</td>\n",
       "      <td>left_to_right</td>\n",
       "      <td>False</td>\n",
       "      <td>0.981501</td>\n",
       "    </tr>\n",
       "    <tr>\n",
       "      <th>95</th>\n",
       "      <td>100</td>\n",
       "      <td>shortest_path_length_left_to_right</td>\n",
       "      <td>0.921807</td>\n",
       "      <td>0.965358</td>\n",
       "      <td>0.923429</td>\n",
       "      <td>4</td>\n",
       "      <td>slope</td>\n",
       "      <td>left_to_right</td>\n",
       "      <td>False</td>\n",
       "      <td>0.965358</td>\n",
       "    </tr>\n",
       "    <tr>\n",
       "      <th>1173</th>\n",
       "      <td>108</td>\n",
       "      <td>shortest_path_length_left_to_right</td>\n",
       "      <td>0.909541</td>\n",
       "      <td>0.944142</td>\n",
       "      <td>0.930519</td>\n",
       "      <td>4</td>\n",
       "      <td>slope</td>\n",
       "      <td>left_to_right</td>\n",
       "      <td>False</td>\n",
       "      <td>0.944142</td>\n",
       "    </tr>\n",
       "    <tr>\n",
       "      <th>634</th>\n",
       "      <td>104</td>\n",
       "      <td>shortest_path_length_left_to_right</td>\n",
       "      <td>0.873276</td>\n",
       "      <td>0.941874</td>\n",
       "      <td>0.924749</td>\n",
       "      <td>4</td>\n",
       "      <td>slope</td>\n",
       "      <td>left_to_right</td>\n",
       "      <td>False</td>\n",
       "      <td>0.941874</td>\n",
       "    </tr>\n",
       "    <tr>\n",
       "      <th>732</th>\n",
       "      <td>104</td>\n",
       "      <td>shortest_path_length_left_to_right</td>\n",
       "      <td>0.791218</td>\n",
       "      <td>0.742032</td>\n",
       "      <td>0.771009</td>\n",
       "      <td>4</td>\n",
       "      <td>angle</td>\n",
       "      <td>left_to_right</td>\n",
       "      <td>False</td>\n",
       "      <td>0.791218</td>\n",
       "    </tr>\n",
       "    <tr>\n",
       "      <th>193</th>\n",
       "      <td>100</td>\n",
       "      <td>shortest_path_length_left_to_right</td>\n",
       "      <td>0.788069</td>\n",
       "      <td>0.719260</td>\n",
       "      <td>0.664248</td>\n",
       "      <td>4</td>\n",
       "      <td>angle</td>\n",
       "      <td>left_to_right</td>\n",
       "      <td>False</td>\n",
       "      <td>0.788069</td>\n",
       "    </tr>\n",
       "    <tr>\n",
       "      <th>183</th>\n",
       "      <td>100</td>\n",
       "      <td>dag_longest_path_length</td>\n",
       "      <td>0.778580</td>\n",
       "      <td>0.607170</td>\n",
       "      <td>0.688730</td>\n",
       "      <td>4</td>\n",
       "      <td>angle</td>\n",
       "      <td>left_to_right</td>\n",
       "      <td>False</td>\n",
       "      <td>0.778580</td>\n",
       "    </tr>\n",
       "    <tr>\n",
       "      <th>722</th>\n",
       "      <td>104</td>\n",
       "      <td>dag_longest_path_length</td>\n",
       "      <td>0.759934</td>\n",
       "      <td>0.636995</td>\n",
       "      <td>0.751441</td>\n",
       "      <td>4</td>\n",
       "      <td>angle</td>\n",
       "      <td>left_to_right</td>\n",
       "      <td>False</td>\n",
       "      <td>0.759934</td>\n",
       "    </tr>\n",
       "  </tbody>\n",
       "</table>\n",
       "</div>"
      ],
      "text/plain": [
       "       ex                              metric       ALL        AC        DC  \\\n",
       "1467  108  shortest_path_length_left_to_right  0.970527  0.988696  0.992867   \n",
       "389   100  shortest_path_length_left_to_right  0.962325  0.979525  0.980755   \n",
       "928   104  shortest_path_length_left_to_right  0.938627  0.976584  0.981501   \n",
       "95    100  shortest_path_length_left_to_right  0.921807  0.965358  0.923429   \n",
       "1173  108  shortest_path_length_left_to_right  0.909541  0.944142  0.930519   \n",
       "634   104  shortest_path_length_left_to_right  0.873276  0.941874  0.924749   \n",
       "732   104  shortest_path_length_left_to_right  0.791218  0.742032  0.771009   \n",
       "193   100  shortest_path_length_left_to_right  0.788069  0.719260  0.664248   \n",
       "183   100             dag_longest_path_length  0.778580  0.607170  0.688730   \n",
       "722   104             dag_longest_path_length  0.759934  0.636995  0.751441   \n",
       "\n",
       "      beats_per_window edge_weight edge_direction    fft       max  \n",
       "1467                 4  v_distance  left_to_right  False  0.992867  \n",
       "389                  4  v_distance  left_to_right  False  0.980755  \n",
       "928                  4  v_distance  left_to_right  False  0.981501  \n",
       "95                   4       slope  left_to_right  False  0.965358  \n",
       "1173                 4       slope  left_to_right  False  0.944142  \n",
       "634                  4       slope  left_to_right  False  0.941874  \n",
       "732                  4       angle  left_to_right  False  0.791218  \n",
       "193                  4       angle  left_to_right  False  0.788069  \n",
       "183                  4       angle  left_to_right  False  0.778580  \n",
       "722                  4       angle  left_to_right  False  0.759934  "
      ]
     },
     "execution_count": 49,
     "metadata": {},
     "output_type": "execute_result"
    }
   ],
   "source": [
    "df['max'] = df[['ALL', 'AC', 'DC']].abs().max(axis=1)\n",
    "df.sort_values(by=[\"ALL\", \"AC\", \"DC\", \"metric\"], ascending=False).head(10)"
   ]
  },
  {
   "cell_type": "code",
   "execution_count": 103,
   "metadata": {},
   "outputs": [
    {
     "data": {
      "text/html": [
       "<div>\n",
       "<style scoped>\n",
       "    .dataframe tbody tr th:only-of-type {\n",
       "        vertical-align: middle;\n",
       "    }\n",
       "\n",
       "    .dataframe tbody tr th {\n",
       "        vertical-align: top;\n",
       "    }\n",
       "\n",
       "    .dataframe thead th {\n",
       "        text-align: right;\n",
       "    }\n",
       "</style>\n",
       "<table border=\"1\" class=\"dataframe\">\n",
       "  <thead>\n",
       "    <tr style=\"text-align: right;\">\n",
       "      <th></th>\n",
       "      <th>ex</th>\n",
       "      <th>type</th>\n",
       "      <th>value</th>\n",
       "    </tr>\n",
       "  </thead>\n",
       "  <tbody>\n",
       "    <tr>\n",
       "      <th>('shortest_path_length_left_to_right', 4, 'v_distance', 'left_to_right', False)</th>\n",
       "      <td>108</td>\n",
       "      <td>DC</td>\n",
       "      <td>0.992867</td>\n",
       "    </tr>\n",
       "    <tr>\n",
       "      <th>('shortest_path_length_left_to_right', 4, 'v_distance', 'left_to_right', False)</th>\n",
       "      <td>108</td>\n",
       "      <td>AC</td>\n",
       "      <td>0.988696</td>\n",
       "    </tr>\n",
       "    <tr>\n",
       "      <th>('shortest_path_length_left_to_right', 4, 'v_distance', 'left_to_right', False)</th>\n",
       "      <td>104</td>\n",
       "      <td>DC</td>\n",
       "      <td>0.981501</td>\n",
       "    </tr>\n",
       "    <tr>\n",
       "      <th>('shortest_path_length_left_to_right', 4, 'v_distance', 'left_to_right', False)</th>\n",
       "      <td>100</td>\n",
       "      <td>DC</td>\n",
       "      <td>0.980755</td>\n",
       "    </tr>\n",
       "    <tr>\n",
       "      <th>('shortest_path_length_left_to_right', 4, 'v_distance', 'left_to_right', False)</th>\n",
       "      <td>100</td>\n",
       "      <td>AC</td>\n",
       "      <td>0.979525</td>\n",
       "    </tr>\n",
       "    <tr>\n",
       "      <th>...</th>\n",
       "      <td>...</td>\n",
       "      <td>...</td>\n",
       "      <td>...</td>\n",
       "    </tr>\n",
       "    <tr>\n",
       "      <th>('dag_longest_path_length', 4, 'abs_slope', 'left_to_right', False)</th>\n",
       "      <td>100</td>\n",
       "      <td>AC</td>\n",
       "      <td>-0.606586</td>\n",
       "    </tr>\n",
       "    <tr>\n",
       "      <th>('shortest_path_length_left_to_right', 4, 'sq_distance', 'left_to_right', False)</th>\n",
       "      <td>100</td>\n",
       "      <td>AC</td>\n",
       "      <td>-0.613370</td>\n",
       "    </tr>\n",
       "    <tr>\n",
       "      <th>('dag_longest_path_length', 4, 'sq_distance', 'left_to_right', False)</th>\n",
       "      <td>100</td>\n",
       "      <td>AC</td>\n",
       "      <td>-0.651737</td>\n",
       "    </tr>\n",
       "    <tr>\n",
       "      <th>('shortest_path_length_left_to_right', 4, 'distance', 'left_to_right', False)</th>\n",
       "      <td>100</td>\n",
       "      <td>AC</td>\n",
       "      <td>-0.668327</td>\n",
       "    </tr>\n",
       "    <tr>\n",
       "      <th>('shortest_path_length_left_to_right', 4, 'abs_v_distance', 'left_to_right', False)</th>\n",
       "      <td>100</td>\n",
       "      <td>AC</td>\n",
       "      <td>-0.668927</td>\n",
       "    </tr>\n",
       "  </tbody>\n",
       "</table>\n",
       "<p>636 rows × 3 columns</p>\n",
       "</div>"
      ],
      "text/plain": [
       "                                                     ex type     value\n",
       "('shortest_path_length_left_to_right', 4, 'v_di...  108   DC  0.992867\n",
       "('shortest_path_length_left_to_right', 4, 'v_di...  108   AC  0.988696\n",
       "('shortest_path_length_left_to_right', 4, 'v_di...  104   DC  0.981501\n",
       "('shortest_path_length_left_to_right', 4, 'v_di...  100   DC  0.980755\n",
       "('shortest_path_length_left_to_right', 4, 'v_di...  100   AC  0.979525\n",
       "...                                                 ...  ...       ...\n",
       "('dag_longest_path_length', 4, 'abs_slope', 'le...  100   AC -0.606586\n",
       "('shortest_path_length_left_to_right', 4, 'sq_d...  100   AC -0.613370\n",
       "('dag_longest_path_length', 4, 'sq_distance', '...  100   AC -0.651737\n",
       "('shortest_path_length_left_to_right', 4, 'dist...  100   AC -0.668327\n",
       "('shortest_path_length_left_to_right', 4, 'abs_...  100   AC -0.668927\n",
       "\n",
       "[636 rows x 3 columns]"
      ]
     },
     "execution_count": 103,
     "metadata": {},
     "output_type": "execute_result"
    }
   ],
   "source": [
    "df0 = df.set_index(['metric', 'beats_per_window', 'edge_weight', 'edge_direction', 'fft', 'ex'])\n",
    "df0 = df0.stack()\n",
    "df0 = df0.reset_index()\n",
    "df0 = df0.rename(columns={'level_6': 'type', 0: 'value'}) \n",
    "df0 = df0.set_index(['metric', 'beats_per_window', 'edge_weight', 'edge_direction', 'fft'])\n",
    "df0.index = df0.index.map(str)\n",
    "#df0.index = df0.index.map('_'.join)\n",
    "#df0 = df0.dropna(axis=0, how='any')\n",
    "df0 = df0[df0['type'].isin(['AC', 'DC'])]\n",
    "df0 = df0.sort_values(by=['value'], ascending=False)\n",
    "df0"
   ]
  },
  {
   "cell_type": "code",
   "execution_count": 109,
   "metadata": {},
   "outputs": [
    {
     "data": {
      "text/plain": [
       "[(-0.5, 10.5)]"
      ]
     },
     "execution_count": 109,
     "metadata": {},
     "output_type": "execute_result"
    },
    {
     "data": {
      "image/png": "[encoded data removed]",
      "text/plain": [
       "<Figure size 1000x2000 with 1 Axes>"
      ]
     },
     "metadata": {},
     "output_type": "display_data"
    }
   ],
   "source": [
    "import seaborn as sns\n",
    "sns.set(rc={'figure.figsize':(10,20)})\n",
    "g = sns.violinplot(data=df0, y=df0.index, x=\"value\", hue=\"type\", split=True)\n",
    "g.set(ylim=(-.5, 10.5))"
   ]
  },
  {
   "cell_type": "code",
   "execution_count": 43,
   "metadata": {},
   "outputs": [
    {
     "data": {
      "text/plain": [
       "<matplotlib.legend.Legend at 0x136e7a1b250>"
      ]
     },
     "execution_count": 43,
     "metadata": {},
     "output_type": "execute_result"
    },
    {
     "data": {
      "image/png": "[encoded data removed]",
      "text/plain": [
       "<Figure size 640x480 with 1 Axes>"
      ]
     },
     "metadata": {},
     "output_type": "display_data"
    }
   ],
   "source": [
    "\n",
    "plt.hist(df[df[\"metric\"]==\"shortest_path_length_left_to_right\"][\"ALL\"], alpha=0.6, label=\"shortest_path_length_left_to_right\")\n",
    "#plt.hist(df[df[\"metric\"]==\"shortest_path_length_left_to_right\"][\"ALL\"], alpha=0.6, label=\"shortest_path_length_left_to_right\")\n",
    "plt.legend()"
   ]
  },
  {
   "cell_type": "code",
   "execution_count": 7,
   "metadata": {},
   "outputs": [
    {
     "data": {
      "application/vnd.plotly.v1+json": {
       "config": {
        "plotlyServerURL": "https://plot.ly"
       },
       "data": [],
       "layout": {
        "barmode": "relative",
        "legend": {
         "tracegroupgap": 0
        },
        "margin": {
         "t": 60
        },
        "template": {
         "data": {
          "bar": [
           {
            "error_x": {
             "color": "#2a3f5f"
            },
            "error_y": {
             "color": "#2a3f5f"
            },
            "marker": {
             "line": {
              "color": "#E5ECF6",
              "width": 0.5
             },
             "pattern": {
              "fillmode": "overlay",
              "size": 10,
              "solidity": 0.2
             }
            },
            "type": "bar"
           }
          ],
          "barpolar": [
           {
            "marker": {
             "line": {
              "color": "#E5ECF6",
              "width": 0.5
             },
             "pattern": {
              "fillmode": "overlay",
              "size": 10,
              "solidity": 0.2
             }
            },
            "type": "barpolar"
           }
          ],
          "carpet": [
           {
            "aaxis": {
             "endlinecolor": "#2a3f5f",
             "gridcolor": "white",
             "linecolor": "white",
             "minorgridcolor": "white",
             "startlinecolor": "#2a3f5f"
            },
            "baxis": {
             "endlinecolor": "#2a3f5f",
             "gridcolor": "white",
             "linecolor": "white",
             "minorgridcolor": "white",
             "startlinecolor": "#2a3f5f"
            },
            "type": "carpet"
           }
          ],
          "choropleth": [
           {
            "colorbar": {
             "outlinewidth": 0,
             "ticks": ""
            },
            "type": "choropleth"
           }
          ],
          "contour": [
           {
            "colorbar": {
             "outlinewidth": 0,
             "ticks": ""
            },
            "colorscale": [
             [
              0,
              "#0d0887"
             ],
             [
              0.1111111111111111,
              "#46039f"
             ],
             [
              0.2222222222222222,
              "#7201a8"
             ],
             [
              0.3333333333333333,
              "#9c179e"
             ],
             [
              0.4444444444444444,
              "#bd3786"
             ],
             [
              0.5555555555555556,
              "#d8576b"
             ],
             [
              0.6666666666666666,
              "#ed7953"
             ],
             [
              0.7777777777777778,
              "#fb9f3a"
             ],
             [
              0.8888888888888888,
              "#fdca26"
             ],
             [
              1,
              "#f0f921"
             ]
            ],
            "type": "contour"
           }
          ],
          "contourcarpet": [
           {
            "colorbar": {
             "outlinewidth": 0,
             "ticks": ""
            },
            "type": "contourcarpet"
           }
          ],
          "heatmap": [
           {
            "colorbar": {
             "outlinewidth": 0,
             "ticks": ""
            },
            "colorscale": [
             [
              0,
              "#0d0887"
             ],
             [
              0.1111111111111111,
              "#46039f"
             ],
             [
              0.2222222222222222,
              "#7201a8"
             ],
             [
              0.3333333333333333,
              "#9c179e"
             ],
             [
              0.4444444444444444,
              "#bd3786"
             ],
             [
              0.5555555555555556,
              "#d8576b"
             ],
             [
              0.6666666666666666,
              "#ed7953"
             ],
             [
              0.7777777777777778,
              "#fb9f3a"
             ],
             [
              0.8888888888888888,
              "#fdca26"
             ],
             [
              1,
              "#f0f921"
             ]
            ],
            "type": "heatmap"
           }
          ],
          "heatmapgl": [
           {
            "colorbar": {
             "outlinewidth": 0,
             "ticks": ""
            },
            "colorscale": [
             [
              0,
              "#0d0887"
             ],
             [
              0.1111111111111111,
              "#46039f"
             ],
             [
              0.2222222222222222,
              "#7201a8"
             ],
             [
              0.3333333333333333,
              "#9c179e"
             ],
             [
              0.4444444444444444,
              "#bd3786"
             ],
             [
              0.5555555555555556,
              "#d8576b"
             ],
             [
              0.6666666666666666,
              "#ed7953"
             ],
             [
              0.7777777777777778,
              "#fb9f3a"
             ],
             [
              0.8888888888888888,
              "#fdca26"
             ],
             [
              1,
              "#f0f921"
             ]
            ],
            "type": "heatmapgl"
           }
          ],
          "histogram": [
           {
            "marker": {
             "pattern": {
              "fillmode": "overlay",
              "size": 10,
              "solidity": 0.2
             }
            },
            "type": "histogram"
           }
          ],
          "histogram2d": [
           {
            "colorbar": {
             "outlinewidth": 0,
             "ticks": ""
            },
            "colorscale": [
             [
              0,
              "#0d0887"
             ],
             [
              0.1111111111111111,
              "#46039f"
             ],
             [
              0.2222222222222222,
              "#7201a8"
             ],
             [
              0.3333333333333333,
              "#9c179e"
             ],
             [
              0.4444444444444444,
              "#bd3786"
             ],
             [
              0.5555555555555556,
              "#d8576b"
             ],
             [
              0.6666666666666666,
              "#ed7953"
             ],
             [
              0.7777777777777778,
              "#fb9f3a"
             ],
             [
              0.8888888888888888,
              "#fdca26"
             ],
             [
              1,
              "#f0f921"
             ]
            ],
            "type": "histogram2d"
           }
          ],
          "histogram2dcontour": [
           {
            "colorbar": {
             "outlinewidth": 0,
             "ticks": ""
            },
            "colorscale": [
             [
              0,
              "#0d0887"
             ],
             [
              0.1111111111111111,
              "#46039f"
             ],
             [
              0.2222222222222222,
              "#7201a8"
             ],
             [
              0.3333333333333333,
              "#9c179e"
             ],
             [
              0.4444444444444444,
              "#bd3786"
             ],
             [
              0.5555555555555556,
              "#d8576b"
             ],
             [
              0.6666666666666666,
              "#ed7953"
             ],
             [
              0.7777777777777778,
              "#fb9f3a"
             ],
             [
              0.8888888888888888,
              "#fdca26"
             ],
             [
              1,
              "#f0f921"
             ]
            ],
            "type": "histogram2dcontour"
           }
          ],
          "mesh3d": [
           {
            "colorbar": {
             "outlinewidth": 0,
             "ticks": ""
            },
            "type": "mesh3d"
           }
          ],
          "parcoords": [
           {
            "line": {
             "colorbar": {
              "outlinewidth": 0,
              "ticks": ""
             }
            },
            "type": "parcoords"
           }
          ],
          "pie": [
           {
            "automargin": true,
            "type": "pie"
           }
          ],
          "scatter": [
           {
            "fillpattern": {
             "fillmode": "overlay",
             "size": 10,
             "solidity": 0.2
            },
            "type": "scatter"
           }
          ],
          "scatter3d": [
           {
            "line": {
             "colorbar": {
              "outlinewidth": 0,
              "ticks": ""
             }
            },
            "marker": {
             "colorbar": {
              "outlinewidth": 0,
              "ticks": ""
             }
            },
            "type": "scatter3d"
           }
          ],
          "scattercarpet": [
           {
            "marker": {
             "colorbar": {
              "outlinewidth": 0,
              "ticks": ""
             }
            },
            "type": "scattercarpet"
           }
          ],
          "scattergeo": [
           {
            "marker": {
             "colorbar": {
              "outlinewidth": 0,
              "ticks": ""
             }
            },
            "type": "scattergeo"
           }
          ],
          "scattergl": [
           {
            "marker": {
             "colorbar": {
              "outlinewidth": 0,
              "ticks": ""
             }
            },
            "type": "scattergl"
           }
          ],
          "scattermapbox": [
           {
            "marker": {
             "colorbar": {
              "outlinewidth": 0,
              "ticks": ""
             }
            },
            "type": "scattermapbox"
           }
          ],
          "scatterpolar": [
           {
            "marker": {
             "colorbar": {
              "outlinewidth": 0,
              "ticks": ""
             }
            },
            "type": "scatterpolar"
           }
          ],
          "scatterpolargl": [
           {
            "marker": {
             "colorbar": {
              "outlinewidth": 0,
              "ticks": ""
             }
            },
            "type": "scatterpolargl"
           }
          ],
          "scatterternary": [
           {
            "marker": {
             "colorbar": {
              "outlinewidth": 0,
              "ticks": ""
             }
            },
            "type": "scatterternary"
           }
          ],
          "surface": [
           {
            "colorbar": {
             "outlinewidth": 0,
             "ticks": ""
            },
            "colorscale": [
             [
              0,
              "#0d0887"
             ],
             [
              0.1111111111111111,
              "#46039f"
             ],
             [
              0.2222222222222222,
              "#7201a8"
             ],
             [
              0.3333333333333333,
              "#9c179e"
             ],
             [
              0.4444444444444444,
              "#bd3786"
             ],
             [
              0.5555555555555556,
              "#d8576b"
             ],
             [
              0.6666666666666666,
              "#ed7953"
             ],
             [
              0.7777777777777778,
              "#fb9f3a"
             ],
             [
              0.8888888888888888,
              "#fdca26"
             ],
             [
              1,
              "#f0f921"
             ]
            ],
            "type": "surface"
           }
          ],
          "table": [
           {
            "cells": {
             "fill": {
              "color": "#EBF0F8"
             },
             "line": {
              "color": "white"
             }
            },
            "header": {
             "fill": {
              "color": "#C8D4E3"
             },
             "line": {
              "color": "white"
             }
            },
            "type": "table"
           }
          ]
         },
         "layout": {
          "annotationdefaults": {
           "arrowcolor": "#2a3f5f",
           "arrowhead": 0,
           "arrowwidth": 1
          },
          "autotypenumbers": "strict",
          "coloraxis": {
           "colorbar": {
            "outlinewidth": 0,
            "ticks": ""
           }
          },
          "colorscale": {
           "diverging": [
            [
             0,
             "#8e0152"
            ],
            [
             0.1,
             "#c51b7d"
            ],
            [
             0.2,
             "#de77ae"
            ],
            [
             0.3,
             "#f1b6da"
            ],
            [
             0.4,
             "#fde0ef"
            ],
            [
             0.5,
             "#f7f7f7"
            ],
            [
             0.6,
             "#e6f5d0"
            ],
            [
             0.7,
             "#b8e186"
            ],
            [
             0.8,
             "#7fbc41"
            ],
            [
             0.9,
             "#4d9221"
            ],
            [
             1,
             "#276419"
            ]
           ],
           "sequential": [
            [
             0,
             "#0d0887"
            ],
            [
             0.1111111111111111,
             "#46039f"
            ],
            [
             0.2222222222222222,
             "#7201a8"
            ],
            [
             0.3333333333333333,
             "#9c179e"
            ],
            [
             0.4444444444444444,
             "#bd3786"
            ],
            [
             0.5555555555555556,
             "#d8576b"
            ],
            [
             0.6666666666666666,
             "#ed7953"
            ],
            [
             0.7777777777777778,
             "#fb9f3a"
            ],
            [
             0.8888888888888888,
             "#fdca26"
            ],
            [
             1,
             "#f0f921"
            ]
           ],
           "sequentialminus": [
            [
             0,
             "#0d0887"
            ],
            [
             0.1111111111111111,
             "#46039f"
            ],
            [
             0.2222222222222222,
             "#7201a8"
            ],
            [
             0.3333333333333333,
             "#9c179e"
            ],
            [
             0.4444444444444444,
             "#bd3786"
            ],
            [
             0.5555555555555556,
             "#d8576b"
            ],
            [
             0.6666666666666666,
             "#ed7953"
            ],
            [
             0.7777777777777778,
             "#fb9f3a"
            ],
            [
             0.8888888888888888,
             "#fdca26"
            ],
            [
             1,
             "#f0f921"
            ]
           ]
          },
          "colorway": [
           "#636efa",
           "#EF553B",
           "#00cc96",
           "#ab63fa",
           "#FFA15A",
           "#19d3f3",
           "#FF6692",
           "#B6E880",
           "#FF97FF",
           "#FECB52"
          ],
          "font": {
           "color": "#2a3f5f"
          },
          "geo": {
           "bgcolor": "white",
           "lakecolor": "white",
           "landcolor": "#E5ECF6",
           "showlakes": true,
           "showland": true,
           "subunitcolor": "white"
          },
          "hoverlabel": {
           "align": "left"
          },
          "hovermode": "closest",
          "mapbox": {
           "style": "light"
          },
          "paper_bgcolor": "white",
          "plot_bgcolor": "#E5ECF6",
          "polar": {
           "angularaxis": {
            "gridcolor": "white",
            "linecolor": "white",
            "ticks": ""
           },
           "bgcolor": "#E5ECF6",
           "radialaxis": {
            "gridcolor": "white",
            "linecolor": "white",
            "ticks": ""
           }
          },
          "scene": {
           "xaxis": {
            "backgroundcolor": "#E5ECF6",
            "gridcolor": "white",
            "gridwidth": 2,
            "linecolor": "white",
            "showbackground": true,
            "ticks": "",
            "zerolinecolor": "white"
           },
           "yaxis": {
            "backgroundcolor": "#E5ECF6",
            "gridcolor": "white",
            "gridwidth": 2,
            "linecolor": "white",
            "showbackground": true,
            "ticks": "",
            "zerolinecolor": "white"
           },
           "zaxis": {
            "backgroundcolor": "#E5ECF6",
            "gridcolor": "white",
            "gridwidth": 2,
            "linecolor": "white",
            "showbackground": true,
            "ticks": "",
            "zerolinecolor": "white"
           }
          },
          "shapedefaults": {
           "line": {
            "color": "#2a3f5f"
           }
          },
          "ternary": {
           "aaxis": {
            "gridcolor": "white",
            "linecolor": "white",
            "ticks": ""
           },
           "baxis": {
            "gridcolor": "white",
            "linecolor": "white",
            "ticks": ""
           },
           "bgcolor": "#E5ECF6",
           "caxis": {
            "gridcolor": "white",
            "linecolor": "white",
            "ticks": ""
           }
          },
          "title": {
           "x": 0.05
          },
          "xaxis": {
           "automargin": true,
           "gridcolor": "white",
           "linecolor": "white",
           "ticks": "",
           "title": {
            "standoff": 15
           },
           "zerolinecolor": "white",
           "zerolinewidth": 2
          },
          "yaxis": {
           "automargin": true,
           "gridcolor": "white",
           "linecolor": "white",
           "ticks": "",
           "title": {
            "standoff": 15
           },
           "zerolinecolor": "white",
           "zerolinewidth": 2
          }
         }
        },
        "xaxis": {
         "anchor": "y",
         "domain": [
          0,
          1
         ],
         "title": {
          "text": "correlation"
         }
        },
        "yaxis": {
         "anchor": "x",
         "domain": [
          0,
          1
         ],
         "title": {
          "text": "count"
         }
        }
       }
      }
     },
     "metadata": {},
     "output_type": "display_data"
    }
   ],
   "source": [
    "import plotly.express as px\n",
    "fig = px.histogram(df, x=\"correlation\", color=\"metric\")\n",
    "fig.show()"
   ]
  },
  {
   "cell_type": "code",
   "execution_count": 8,
   "metadata": {},
   "outputs": [
    {
     "data": {
      "text/html": [
       "<div>\n",
       "<style scoped>\n",
       "    .dataframe tbody tr th:only-of-type {\n",
       "        vertical-align: middle;\n",
       "    }\n",
       "\n",
       "    .dataframe tbody tr th {\n",
       "        vertical-align: top;\n",
       "    }\n",
       "\n",
       "    .dataframe thead th {\n",
       "        text-align: right;\n",
       "    }\n",
       "</style>\n",
       "<table border=\"1\" class=\"dataframe\">\n",
       "  <thead>\n",
       "    <tr style=\"text-align: right;\">\n",
       "      <th></th>\n",
       "      <th></th>\n",
       "      <th></th>\n",
       "      <th></th>\n",
       "      <th></th>\n",
       "      <th>mean</th>\n",
       "      <th>median</th>\n",
       "    </tr>\n",
       "    <tr>\n",
       "      <th>metric</th>\n",
       "      <th>beats_per_window</th>\n",
       "      <th>edge_weight</th>\n",
       "      <th>edge_direction</th>\n",
       "      <th>fft</th>\n",
       "      <th></th>\n",
       "      <th></th>\n",
       "    </tr>\n",
       "  </thead>\n",
       "  <tbody>\n",
       "  </tbody>\n",
       "</table>\n",
       "</div>"
      ],
      "text/plain": [
       "Empty DataFrame\n",
       "Columns: [mean, median]\n",
       "Index: []"
      ]
     },
     "execution_count": 8,
     "metadata": {},
     "output_type": "execute_result"
    }
   ],
   "source": [
    "df.groupby(['metric', 'beats_per_window', 'edge_weight', 'edge_direction', 'fft'])['correlation'].agg(['mean', 'median'])"
   ]
  },
  {
   "cell_type": "code",
   "execution_count": null,
   "metadata": {},
   "outputs": [],
   "source": [
    "experiments = [100, \t104, \t108, \t113, \t117, \t122, \t201, \t207, \t212, \t217, \t222, \t231,\n",
    "            101, \t105, \t109, \t114, \t118, \t123, \t202, \t208, \t213, \t219, \t223, \t232,\n",
    "            102, \t106, \t111, \t115, \t119, \t124, \t203, \t209, \t214, \t220, \t228, \t233,\n",
    "            103, \t107, \t112, \t116, \t121, \t200, \t205, \t210, \t215, \t221, \t230, \t234]\n",
    "\n",
    "def calc_correlations(VGM, beats_per_window, metrics):\n",
    "    data = []\n",
    "    for ex in experiments:\n",
    "        t, x, fs, true_peaks = pysionet_db(data=str(ex), db='mitdb', filtered=False,normalize=False)#, right=int(5*60*360)\n",
    "        if true_peaks.size == 0:\n",
    "            continue\n",
    "        rr = np.diff(true_peaks)\n",
    "\n",
    "        # calculate AC/DC\n",
    "        values, labels, indices = segmentwise_ACDC(rr, fs)\n",
    "        values = values[labels != \"outlier\"]\n",
    "        indices = indices[labels != \"outlier\"]\n",
    "        labels = labels[labels != \"outlier\"]\n",
    "\n",
    "        print(ex)\n",
    "        #print(metrics)\n",
    "        m = VGM.calc_metric(rr, metrics=metrics)\n",
    "        for name, (m, ix_m) in m.items():\n",
    "            ix_m += beats_per_window//2 # shift to middle of window\n",
    "            # get common indices\n",
    "            idx = np.intersect1d(indices, ix_m)\n",
    "            # calculate correlation\n",
    "            values = values[np.in1d(indices, idx)]\n",
    "            m = m[np.in1d(ix_m, idx)]\n",
    "            labels = labels[np.in1d(indices, idx)]\n",
    "            \n",
    "            AC_true = values[labels == \"AC\"]\n",
    "            AC_pred = m[labels == \"AC\"]\n",
    "            DC_true = values[labels == \"DC\"]\n",
    "            DC_pred = m[labels == \"DC\"]\n",
    "            print(f\"{name}: AC: {np.corrcoeff(AC_true, AC_pred, rowvar=False)}\")\n",
    "            print(f\"{name}: DC: {np.corrcoeff(AC_true, AC_pred, rowvar=False)}\")\n",
    "\n",
    "\n",
    "            print(f\"{name}_{str(VGM.directed)}_{str(VGM.edge_weight)}_{VGM.beats_per_window}: {corr[0,1]}\")\n",
    "            #data.append([ex, name, corr[0,1], beats_per_window, edge_weight, direction, freq_domain])  \n",
    "\n",
    "        #df = pd.DataFrame(data, columns=['ex', 'name', 'corr', 'beats_per_window', 'edge_weight', 'direction', 'freq_domain'])\n",
    "        #df.to_csv(path, index=False, mode='a', header=False)   \n",
    "        break\n",
    "\n",
    "beats_per_window = 4\n",
    "freq_domain=False\n",
    "directions=[None, 'left_to_right']\n",
    "edge_weights = [None, 'slope', 'abs_slope', 'angle', 'abs_angle', 'distance', 'sq_distance', 'v_distance', 'abs_v_distance', 'h_distance', 'abs_h_distance']\n",
    "\n",
    "#metrics = VGM.get_available_metrics()\n",
    "metrics=['minimum_cut_value_left_to_right', 'maximum_flow_value_left_to_right', 'shortest_path_length_left_to_right']\n",
    "# VGM = VisGraphMetric(edge_weight=\"slope\", direction=None, freq_domain=freq_domain, beats_per_window=beats_per_window, beats_per_step=1)\n",
    "for edge_weight in edge_weights:\n",
    "    for direction in directions:\n",
    "        print(edge_weight, direction)\n",
    "        VGM = VisGraphMetric(edge_weight=edge_weight, direction=direction, freq_domain=freq_domain, beats_per_window=beats_per_window, beats_per_step=1)\n",
    "        calc_correlations(VGM, beats_per_window, metrics)"
   ]
  },
  {
   "cell_type": "code",
   "execution_count": 9,
   "metadata": {},
   "outputs": [
    {
     "data": {
      "text/html": [
       "<div>\n",
       "<style scoped>\n",
       "    .dataframe tbody tr th:only-of-type {\n",
       "        vertical-align: middle;\n",
       "    }\n",
       "\n",
       "    .dataframe tbody tr th {\n",
       "        vertical-align: top;\n",
       "    }\n",
       "\n",
       "    .dataframe thead th {\n",
       "        text-align: right;\n",
       "    }\n",
       "</style>\n",
       "<table border=\"1\" class=\"dataframe\">\n",
       "  <thead>\n",
       "    <tr style=\"text-align: right;\">\n",
       "      <th></th>\n",
       "      <th>ex</th>\n",
       "      <th>AC</th>\n",
       "      <th>DC</th>\n",
       "      <th>median_shortest_path_length_left_to_right</th>\n",
       "    </tr>\n",
       "  </thead>\n",
       "  <tbody>\n",
       "    <tr>\n",
       "      <th>ex</th>\n",
       "      <td>1.000000</td>\n",
       "      <td>0.060548</td>\n",
       "      <td>-0.077383</td>\n",
       "      <td>-0.280560</td>\n",
       "    </tr>\n",
       "    <tr>\n",
       "      <th>AC</th>\n",
       "      <td>0.060548</td>\n",
       "      <td>1.000000</td>\n",
       "      <td>0.785103</td>\n",
       "      <td>0.212425</td>\n",
       "    </tr>\n",
       "    <tr>\n",
       "      <th>DC</th>\n",
       "      <td>-0.077383</td>\n",
       "      <td>0.785103</td>\n",
       "      <td>1.000000</td>\n",
       "      <td>0.352800</td>\n",
       "    </tr>\n",
       "    <tr>\n",
       "      <th>median_shortest_path_length_left_to_right</th>\n",
       "      <td>-0.280560</td>\n",
       "      <td>0.212425</td>\n",
       "      <td>0.352800</td>\n",
       "      <td>1.000000</td>\n",
       "    </tr>\n",
       "  </tbody>\n",
       "</table>\n",
       "</div>"
      ],
      "text/plain": [
       "                                                 ex        AC        DC  \\\n",
       "ex                                         1.000000  0.060548 -0.077383   \n",
       "AC                                         0.060548  1.000000  0.785103   \n",
       "DC                                        -0.077383  0.785103  1.000000   \n",
       "median_shortest_path_length_left_to_right -0.280560  0.212425  0.352800   \n",
       "\n",
       "                                           median_shortest_path_length_left_to_right  \n",
       "ex                                                                         -0.280560  \n",
       "AC                                                                          0.212425  \n",
       "DC                                                                          0.352800  \n",
       "median_shortest_path_length_left_to_right                                   1.000000  "
      ]
     },
     "execution_count": 9,
     "metadata": {},
     "output_type": "execute_result"
    }
   ],
   "source": [
    "path = \"C:\\\\Users\\\\Jonas\\\\OneDrive\\\\Uni\\\\SoSe23\\\\RDS\\\\git-repo\\\\vg-ecg-detectors\\\\capacity_full.csv\"\n",
    "df = pd.read_csv(path)\n",
    "df.corr()"
   ]
  },
  {
   "cell_type": "code",
   "execution_count": null,
   "metadata": {},
   "outputs": [],
   "source": []
  }
 ],
 "metadata": {
  "kernelspec": {
   "display_name": "base",
   "language": "python",
   "name": "python3"
  },
  "language_info": {
   "codemirror_mode": {
    "name": "ipython",
    "version": 3
   },
   "file_extension": ".py",
   "mimetype": "text/x-python",
   "name": "python",
   "nbconvert_exporter": "python",
   "pygments_lexer": "ipython3",
   "version": "3.9.13"
  },
  "orig_nbformat": 4
 },
 "nbformat": 4,
 "nbformat_minor": 2
}
